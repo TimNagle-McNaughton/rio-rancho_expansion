{
 "cells": [
  {
   "cell_type": "markdown",
   "id": "30d3cac5",
   "metadata": {},
   "source": [
    "# Rio Rancho expansion\n",
    "\n",
    "The city of Rio Rancho is the 3rd largest city in the state of New Mexico with [a population of ~100,000](https://archive.ph/20200213114736/http://factfinder.census.gov/bkmk/table/1.0/en/DEC/10_SF1/GCTPH1.ST10/0400000US01). Located just outside Albuquerque, Rio Rancho is home to sprawling suburbs and commercial areas.\n",
    "\n",
    "Rio rancho has grown relatively rapidly, causing Sandoval County to be [the fastest-growing county](https://www.santafenewmexican.com/news/local_news/sandoval-rises-as-new-mexico-s-fastest-growing-county/article_301443b9-7b15-565d-99d1-e7bac757c829.html) in New Mexico in recent years, with [further expansion anticipated in the near future](https://newmexiconewsport.com/citizens-want-rio-rancho-to-be-commercialized/)."
   ]
  },
  {
   "cell_type": "markdown",
   "id": "66f7d0aa",
   "metadata": {},
   "source": [
    "## Rio Rancho Estates\n",
    "\n",
    "However, Rio Rancho is also home to an enormous real-estate scam called \"Rio Rancho Estates\", barren area of ~46,000 acres. The development is currently just desert with a few dirt roads cut with no other improvement. These can be clearly seen in images of the city. \n",
    "\n",
    "The sellers, AMREP Corporation, gave naive buyers free dinners and \"a variety of false and fraudulent pretenses, representations, and promises\" to coerce them to buy. In 1977, four of AMREP’s executives were convicted of mail and land fraud for misleading buyers about Rio Rancho Estates.\n",
    "\n",
    "![Image of estates](https://d3el53au0d7w62.cloudfront.net/wp-content/uploads/2018/04/21/G_jd_22apr_RRestates-900x696.png)\n",
    "\n",
    "![Another image of roads](https://jbcrawford.us/_media/travelogue/nmfailed/rioranchoroads.png?cache=)\n",
    "\n",
    "![Image of roads](https://www.sapiens.org/wp-content/uploads/2019/10/02-Rio-Rancho-Estates.jpg)"
   ]
  },
  {
   "cell_type": "markdown",
   "id": "008eecab",
   "metadata": {},
   "source": [
    "## City development\n",
    "\n",
    "Here we will examine the expansion of Rio Rancho proper using Landsat imagery from 1990-2010."
   ]
  },
  {
   "cell_type": "markdown",
   "id": "778c05ab",
   "metadata": {},
   "source": [
    "Import the packages we'll use for this project."
   ]
  },
  {
   "cell_type": "code",
   "execution_count": 1,
   "id": "4bc7c257",
   "metadata": {},
   "outputs": [],
   "source": [
    "# imports\n",
    "import time\n",
    "import ee\n",
    "import geemap\n",
    "from IPython.display import Video"
   ]
  },
  {
   "cell_type": "markdown",
   "id": "0887ee8d",
   "metadata": {},
   "source": [
    "Initialize the maps with geemap"
   ]
  },
  {
   "cell_type": "code",
   "execution_count": 2,
   "id": "62bcc237",
   "metadata": {},
   "outputs": [],
   "source": [
    "# initialize the general map\n",
    "Map = geemap.Map()\n",
    "\n",
    "# make another map for just results\n",
    "results_map = geemap.Map()"
   ]
  },
  {
   "cell_type": "code",
   "execution_count": 3,
   "id": "9227f408",
   "metadata": {},
   "outputs": [],
   "source": [
    "# use these bands for LS05\n",
    "bands = ['B1', 'B2', 'B3', 'B4', 'B5', 'B7']\n",
    "\n",
    "# set the area of interest, Rio Rancho NM\n",
    "RR_point = ee.Geometry.Point([-106.696872, 35.241600])"
   ]
  },
  {
   "cell_type": "markdown",
   "id": "e9309e7a",
   "metadata": {},
   "source": [
    "Get summer imagery every two years from Landsat 5"
   ]
  },
  {
   "cell_type": "code",
   "execution_count": 4,
   "id": "0e1d4b6d",
   "metadata": {},
   "outputs": [],
   "source": [
    "# use Landsat 5 imagery for a 20 year period, limited to a 10-week period in summer\n",
    "image_2010 = ee.ImageCollection('LANDSAT/LT05/C01/T1_SR') \\\n",
    "            .filterBounds(RR_point) \\\n",
    "            .filterDate('2010-06-15', '2010-09-01') \\\n",
    "            .sort('CLOUD_COVER') \\\n",
    "            .first() \\\n",
    "            .select(bands)\n",
    "\n",
    "image_2008 = ee.ImageCollection('LANDSAT/LT05/C01/T1_SR') \\\n",
    "            .filterBounds(RR_point) \\\n",
    "            .filterDate('2008-06-15', '2008-09-01') \\\n",
    "            .sort('CLOUD_COVER') \\\n",
    "            .first() \\\n",
    "            .select(bands)\n",
    "\n",
    "image_2006 = ee.ImageCollection('LANDSAT/LT05/C01/T1_SR') \\\n",
    "            .filterBounds(RR_point) \\\n",
    "            .filterDate('2006-06-15', '2006-09-01') \\\n",
    "            .sort('CLOUD_COVER') \\\n",
    "            .first() \\\n",
    "            .select(bands)\n",
    "\n",
    "image_2004 = ee.ImageCollection('LANDSAT/LT05/C01/T1_SR') \\\n",
    "            .filterBounds(RR_point) \\\n",
    "            .filterDate('2004-06-15', '2004-09-01') \\\n",
    "            .sort('CLOUD_COVER') \\\n",
    "            .first() \\\n",
    "            .select(bands)\n",
    "\n",
    "image_2002 = ee.ImageCollection('LANDSAT/LT05/C01/T1_SR') \\\n",
    "            .filterBounds(RR_point) \\\n",
    "            .filterDate('2002-06-15', '2002-09-01') \\\n",
    "            .sort('CLOUD_COVER') \\\n",
    "            .first() \\\n",
    "            .select(bands)\n",
    "\n",
    "image_2000 = ee.ImageCollection('LANDSAT/LT05/C01/T1_SR') \\\n",
    "            .filterBounds(RR_point) \\\n",
    "            .filterDate('2000-08-15', '2000-09-01') \\\n",
    "            .sort('CLOUD_COVER') \\\n",
    "            .first() \\\n",
    "            .select(bands)\n",
    "\n",
    "image_1998 = ee.ImageCollection('LANDSAT/LT05/C01/T1_SR') \\\n",
    "            .filterBounds(RR_point) \\\n",
    "            .filterDate('1998-06-15', '1998-09-01') \\\n",
    "            .sort('CLOUD_COVER') \\\n",
    "            .first() \\\n",
    "            .select(bands)\n",
    "\n",
    "image_1996 = ee.ImageCollection('LANDSAT/LT05/C01/T1_SR') \\\n",
    "            .filterBounds(RR_point) \\\n",
    "            .filterDate('1996-06-15', '1996-09-01') \\\n",
    "            .sort('CLOUD_COVER') \\\n",
    "            .first() \\\n",
    "            .select(bands)\n",
    "\n",
    "image_1994 = ee.ImageCollection('LANDSAT/LT05/C01/T1_SR') \\\n",
    "            .filterBounds(RR_point) \\\n",
    "            .filterDate('1994-06-15', '1994-09-01') \\\n",
    "            .sort('CLOUD_COVER') \\\n",
    "            .first() \\\n",
    "            .select(bands)\n",
    "\n",
    "image_1992 = ee.ImageCollection('LANDSAT/LT05/C01/T1_SR') \\\n",
    "            .filterBounds(RR_point) \\\n",
    "            .filterDate('1992-06-15', '1992-09-01') \\\n",
    "            .sort('CLOUD_COVER') \\\n",
    "            .first() \\\n",
    "            .select(bands)\n",
    "\n",
    "image_1990 = ee.ImageCollection('LANDSAT/LT05/C01/T1_SR') \\\n",
    "            .filterBounds(RR_point) \\\n",
    "            .filterDate('1990-06-15', '1990-09-01') \\\n",
    "            .sort('CLOUD_COVER') \\\n",
    "            .first() \\\n",
    "            .select(bands)"
   ]
  },
  {
   "cell_type": "code",
   "execution_count": 5,
   "id": "2c9b9ffb",
   "metadata": {},
   "outputs": [],
   "source": [
    "image_list = [image_2010, image_2008, image_2006, \n",
    "              image_2004, image_2002, image_2000, \n",
    "              image_1998, image_1996, image_1994, image_1992, image_1990]"
   ]
  },
  {
   "cell_type": "markdown",
   "id": "8f3d8e2b",
   "metadata": {},
   "source": [
    "Now we can get some basic data about the images we queried and browse them."
   ]
  },
  {
   "cell_type": "code",
   "execution_count": 6,
   "id": "8271d097",
   "metadata": {},
   "outputs": [
    {
     "name": "stdout",
     "output_type": "stream",
     "text": [
      "Date: 2010-08-17 / Cloud cover: 2\n",
      "Date: 2008-08-02 / Cloud cover: 0\n",
      "Date: 2006-06-19 / Cloud cover: 1\n",
      "Date: 2004-07-31 / Cloud cover: 0\n",
      "Date: 2002-08-11 / Cloud cover: 0\n",
      "Date: 2000-08-21 / Cloud cover: 1\n",
      "Date: 1998-06-29 / Cloud cover: 0\n",
      "Date: 1996-06-23 / Cloud cover: 0\n",
      "Date: 1994-06-25 / Cloud cover: 0\n",
      "Date: 1992-06-28 / Cloud cover: 0\n",
      "Date: 1990-06-23 / Cloud cover: 0\n"
     ]
    }
   ],
   "source": [
    "# set parameters for mapping\n",
    "LS05_vis_params = {'min': 0,\n",
    "                   'max': 3000,\n",
    "                   'bands': ['B4', 'B3', 'B2'],\n",
    "                   'gamma': 1.4}\n",
    "\n",
    "# add the images to the interactive map\n",
    "Map.centerObject(RR_point, zoom=13)\n",
    "\n",
    "# loop through the images, get some basic info and add them to the map\n",
    "for image in image_list:\n",
    "    \n",
    "    # get the captured date\n",
    "    date = ee.Date(image.get('system:time_start')).format('YYYY-MM-dd').getInfo()\n",
    "    \n",
    "    # get the % cloud cover\n",
    "    cloud_cover = image.get('CLOUD_COVER').getInfo()\n",
    "    \n",
    "    # add to the map\n",
    "    Map.addLayer(image_2010, LS05_vis_params, date)\n",
    "    \n",
    "    print(\"Date:\", date, \"/ Cloud cover:\", cloud_cover)"
   ]
  },
  {
   "cell_type": "markdown",
   "id": "3bf4bd15",
   "metadata": {},
   "source": [
    "We will use the National Land Cover Database (NLCD) for training."
   ]
  },
  {
   "cell_type": "code",
   "execution_count": 7,
   "id": "b4ef5bf2",
   "metadata": {},
   "outputs": [],
   "source": [
    "# use the 2001 NLCD for training the LS05 as the rough midpoint of the timeseries, and 2016 for the 2020 imagery\n",
    "nlcd_01 = ee.Image('USGS/NLCD/NLCD2001').select('landcover').clip(image_1990.geometry())\n",
    "Map.addLayer(nlcd_01, {}, 'NLCD 2001')"
   ]
  },
  {
   "cell_type": "code",
   "execution_count": 8,
   "id": "4ff25477",
   "metadata": {},
   "outputs": [],
   "source": [
    "# sample the training data\n",
    "points_2001 = nlcd_01.sample(**{\n",
    "              'region': image_2000.geometry(),\n",
    "              'scale': 30,\n",
    "              'numPixels': 10000,\n",
    "              'seed': 0,\n",
    "              'geometries': True})\n",
    "\n",
    "Map.addLayer(points_2001, {}, 'training 2001', False)"
   ]
  },
  {
   "cell_type": "markdown",
   "id": "03396569",
   "metadata": {},
   "source": [
    "We'll train the classifier on the 2000 imagery and then apply the same classifier to the other images."
   ]
  },
  {
   "cell_type": "code",
   "execution_count": 9,
   "id": "5c286970",
   "metadata": {},
   "outputs": [],
   "source": [
    "# get the NLCD labels from the table\n",
    "label = 'landcover'\n",
    "\n",
    "# overlay the points on the imagery to get training\n",
    "training = image_2000.select(bands).sampleRegions(**{\n",
    "           'collection': points_2001,\n",
    "           'properties': [label],\n",
    "           'scale': 30})\n",
    "\n",
    "# train a simple classifier\n",
    "trained = ee.Classifier.minimumDistance('euclidean').train(training, label, bands)"
   ]
  },
  {
   "cell_type": "code",
   "execution_count": 10,
   "id": "dd230c14",
   "metadata": {},
   "outputs": [],
   "source": [
    "# get the NLCD colors and palette so we can compare the maps\n",
    "class_values = nlcd_01.get('landcover_class_values').getInfo()\n",
    "class_palette = nlcd_01.get('landcover_class_palette').getInfo()"
   ]
  },
  {
   "cell_type": "markdown",
   "id": "8de5c330",
   "metadata": {},
   "source": [
    "Now we can apply the trained classifier to the images"
   ]
  },
  {
   "cell_type": "code",
   "execution_count": 11,
   "id": "387bfc7d",
   "metadata": {},
   "outputs": [],
   "source": [
    "# loop through all the images\n",
    "for image in image_list:\n",
    "    \n",
    "    # apply the classifier to the images\n",
    "    results = image.select(bands).classify(trained)\n",
    "    \n",
    "    # get the captured date\n",
    "    date = ee.Date(image.get('system:time_start')).format('YYYY').getInfo()\n",
    "    \n",
    "    # apply the NLCD formatting\n",
    "    landcover = results.set('classification_class_values', class_values)\n",
    "    landcover = landcover.set('classification_class_palette', class_palette)\n",
    "    \n",
    "    # add to the results map\n",
    "    results_map.addLayer(landcover, {}, '{} Land cover'.format(date))"
   ]
  },
  {
   "cell_type": "markdown",
   "id": "69d14f46",
   "metadata": {},
   "source": [
    "# Results\n",
    "\n",
    "We can now [view the growth of Rio Rancho over time](https://i.imgur.com/XVhqLtf.mp4), using a NLCD classifier. Note the expansion of the red (developed) areas."
   ]
  },
  {
   "cell_type": "code",
   "execution_count": 12,
   "id": "f8635ec2",
   "metadata": {},
   "outputs": [
    {
     "data": {
      "text/html": [
       "<video src=\"https://i.imgur.com/XVhqLtf.mp4\" controls  width=\"800\" >\n",
       "      Your browser does not support the <code>video</code> element.\n",
       "    </video>"
      ],
      "text/plain": [
       "<IPython.core.display.Video object>"
      ]
     },
     "execution_count": 12,
     "metadata": {},
     "output_type": "execute_result"
    }
   ],
   "source": [
    "Video(\"https://i.imgur.com/XVhqLtf.mp4\", width=800)"
   ]
  },
  {
   "cell_type": "markdown",
   "id": "66ae91f3",
   "metadata": {},
   "source": [
    "Display an interactive map of the results. Zoom, pan, and alter the layers to explore!"
   ]
  },
  {
   "cell_type": "code",
   "execution_count": 13,
   "id": "22c2db67",
   "metadata": {},
   "outputs": [
    {
     "data": {
      "application/vnd.jupyter.widget-view+json": {
       "model_id": "cb98fb8eb15147e2abc6fa754c009d2f",
       "version_major": 2,
       "version_minor": 0
      },
      "text/plain": [
       "Map(center=[35.2416, -106.69687200000001], controls=(WidgetControl(options=['position', 'transparent_bg'], wid…"
      ]
     },
     "metadata": {},
     "output_type": "display_data"
    }
   ],
   "source": [
    "results_map.centerObject(RR_point, zoom=13)\n",
    "results_map"
   ]
  },
  {
   "cell_type": "markdown",
   "id": "dc454a0b",
   "metadata": {},
   "source": [
    "![Legend](https://i.imgur.com/7QoRXxu.png)"
   ]
  }
 ],
 "metadata": {
  "kernelspec": {
   "display_name": "Python 3",
   "language": "python",
   "name": "python3"
  },
  "language_info": {
   "codemirror_mode": {
    "name": "ipython",
    "version": 3
   },
   "file_extension": ".py",
   "mimetype": "text/x-python",
   "name": "python",
   "nbconvert_exporter": "python",
   "pygments_lexer": "ipython3",
   "version": "3.9.5"
  }
 },
 "nbformat": 4,
 "nbformat_minor": 5
}
